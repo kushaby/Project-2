{
 "cells": [
  {
   "cell_type": "code",
   "execution_count": 25,
   "id": "1f344c02-4324-43d9-9330-c111cfbade98",
   "metadata": {
    "scrolled": true
   },
   "outputs": [
    {
     "name": "stdout",
     "output_type": "stream",
     "text": [
      "Requirement already satisfied: igraph in c:\\users\\kushaby von skatulla\\anaconda3\\lib\\site-packages (0.9.10)\n",
      "Requirement already satisfied: texttable>=1.6.2 in c:\\users\\kushaby von skatulla\\anaconda3\\lib\\site-packages (from igraph) (1.6.4)\n",
      "Requirement already satisfied: numpy in c:\\users\\kushaby von skatulla\\anaconda3\\lib\\site-packages (1.21.5)\n",
      "Requirement already satisfied: matplotlib in c:\\users\\kushaby von skatulla\\anaconda3\\lib\\site-packages (3.5.1)\n",
      "Requirement already satisfied: cycler>=0.10 in c:\\users\\kushaby von skatulla\\anaconda3\\lib\\site-packages (from matplotlib) (0.11.0)\n",
      "Requirement already satisfied: pyparsing>=2.2.1 in c:\\users\\kushaby von skatulla\\anaconda3\\lib\\site-packages (from matplotlib) (3.0.4)\n",
      "Requirement already satisfied: fonttools>=4.22.0 in c:\\users\\kushaby von skatulla\\anaconda3\\lib\\site-packages (from matplotlib) (4.25.0)\n",
      "Requirement already satisfied: numpy>=1.17 in c:\\users\\kushaby von skatulla\\anaconda3\\lib\\site-packages (from matplotlib) (1.21.5)\n",
      "Requirement already satisfied: packaging>=20.0 in c:\\users\\kushaby von skatulla\\anaconda3\\lib\\site-packages (from matplotlib) (21.3)\n",
      "Requirement already satisfied: kiwisolver>=1.0.1 in c:\\users\\kushaby von skatulla\\anaconda3\\lib\\site-packages (from matplotlib) (1.4.2)\n",
      "Requirement already satisfied: pillow>=6.2.0 in c:\\users\\kushaby von skatulla\\anaconda3\\lib\\site-packages (from matplotlib) (9.2.0)\n",
      "Requirement already satisfied: python-dateutil>=2.7 in c:\\users\\kushaby von skatulla\\anaconda3\\lib\\site-packages (from matplotlib) (2.8.2)\n",
      "Requirement already satisfied: six>=1.5 in c:\\users\\kushaby von skatulla\\anaconda3\\lib\\site-packages (from python-dateutil>=2.7->matplotlib) (1.16.0)\n"
     ]
    }
   ],
   "source": [
    "!pip install igraph\n",
    "!pip install numpy\n",
    "!pip install matplotlib\n",
    "\n",
    "import igraph as ig\n",
    "import random as rd\n",
    "import numpy as np\n",
    "import matplotlib.pyplot as plt\n",
    "\n",
    "import ipywidgets as widgets\n",
    "from IPython.display import display\n",
    "from ipywidgets.embed import embed_minimal_html, dependency_state\n",
    "\n",
    "from IPython.display import Markdown, display\n",
    "\n",
    "def printmd(string):\n",
    "    display(Markdown(string))\n",
    "\n",
    "import warnings\n",
    "warnings.filterwarnings('ignore')"
   ]
  },
  {
   "cell_type": "markdown",
   "id": "4864b0dc",
   "metadata": {},
   "source": [
    "### Parameter Input:   \n",
    "Please input the following parameters for your model:   \n",
    "   \n",
    "   \n",
    "**1. Population size**   \n",
    "This is the number of nodes within the model in which one node represents one person that is suseptable to infection.   \n",
    "**2. Number of Interactions**   \n",
    "The number of edges for each node, representing the number of interactions between people within the population. For example, 1 person will interact with 10 people a day.      \n",
    "**3. Number of Days Infected**     \n",
    "The number of days a node is in the infected state before going to the recovered state. This simulates the number of days the infected person is able to transmit the virus to other people   \n",
    "**4. Days**   \n",
    "The number of days the model runs for.   \n",
    "   \n",
    "The below code creates the sliders, enabling the user to input the desired values for the model. Please run the code before inputting the values. Please then run the parameter summary. "
   ]
  },
  {
   "cell_type": "code",
   "execution_count": 31,
   "id": "b58b72da",
   "metadata": {},
   "outputs": [],
   "source": [
    "layout = widgets.Layout(width = \"auto\", height = \"40px\")"
   ]
  },
  {
   "cell_type": "code",
   "execution_count": 32,
   "id": "84e4fb58",
   "metadata": {
    "scrolled": true,
    "tags": []
   },
   "outputs": [
    {
     "data": {
      "application/vnd.jupyter.widget-view+json": {
       "model_id": "2929b57b7c024ad09ad8a3a5e24eec44",
       "version_major": 2,
       "version_minor": 0
      },
      "text/plain": [
       "IntSlider(value=100, continuous_update=False, description='Population Size: ', style=SliderStyle(description_w…"
      ]
     },
     "metadata": {},
     "output_type": "display_data"
    },
    {
     "data": {
      "application/vnd.jupyter.widget-view+json": {
       "model_id": "ee5873ca72d245a1b2a217b9f0632eb1",
       "version_major": 2,
       "version_minor": 0
      },
      "text/plain": [
       "IntSlider(value=10, continuous_update=False, description='Number of Interactions: ', max=10, style=SliderStyle…"
      ]
     },
     "metadata": {},
     "output_type": "display_data"
    },
    {
     "data": {
      "application/vnd.jupyter.widget-view+json": {
       "model_id": "c5e879b04cbc441f8cbcef9c2e20396a",
       "version_major": 2,
       "version_minor": 0
      },
      "text/plain": [
       "IntSlider(value=30, continuous_update=False, description='Number of Days Infected: ', max=360, min=30, style=S…"
      ]
     },
     "metadata": {},
     "output_type": "display_data"
    },
    {
     "data": {
      "application/vnd.jupyter.widget-view+json": {
       "model_id": "0d6c69010fe349e895846a1b6edf2b9d",
       "version_major": 2,
       "version_minor": 0
      },
      "text/plain": [
       "IntSlider(value=120, continuous_update=False, description='Days: ', max=200, min=10, style=SliderStyle(descrip…"
      ]
     },
     "metadata": {},
     "output_type": "display_data"
    }
   ],
   "source": [
    "pop_slider = widgets.IntSlider(value = 100, min=0, max=100, step=1, description=\"Population Size: \", \n",
    "                               style={'description_width': 'initial', 'width': '800px'},\n",
    "                               disabled=False, continuous_update=False, orientation=\"horizontal\", readout=True, \n",
    "                               readout_format=\"d\") #creating the slider\n",
    "embed_minimal_html(\"population_size.html\", views=pop_slider, title = \"population size widget export\")\n",
    "display(pop_slider)\n",
    "\n",
    "node_slider = widgets.IntSlider(value = 10, min=0, max=10, step=1, description=\"Number of Interactions: \",\n",
    "                                style={'description_width': 'initial', 'width': '800px'},\n",
    "                                disabled=False, continuous_update=False, orientation=\"horizontal\", readout=True, \n",
    "                                readout_format=\"d\") #creating the slider\n",
    "embed_minimal_html(\"node.html\", views=node_slider, title = \"node widget export\")\n",
    "display(node_slider)\n",
    "\n",
    "infect_len_slider = widgets.IntSlider(value = 5, min=30, max=360, step=1, description=\"Number of Days Infected: \", \n",
    "                                      style={'description_width': 'initial', 'width': '800px'}, \n",
    "                                      disabled=False, continuous_update=False, orientation=\"horizontal\", readout=True, \n",
    "                                      readout_format=\"d\") #creating the slider\n",
    "embed_minimal_html(\"infection_len.html\", views=infect_len_slider, title = \"infection length size widget export\")\n",
    "display(infect_len_slider)\n",
    "\n",
    "\n",
    "days_slider = widgets.IntSlider(value = 120, min=10, max=200, step=1, description=\"Days: \", \n",
    "                                      style={'description_width': 'initial', 'width': '800px'}, \n",
    "                                      disabled=False, continuous_update=False, orientation=\"horizontal\", readout=True, \n",
    "                                      readout_format=\"d\") #creating the slider\n",
    "embed_minimal_html(\"days.html\", views=infect_len_slider, title = \"days widget export\")\n",
    "display(days_slider)\n"
   ]
  },
  {
   "cell_type": "markdown",
   "id": "336dbf7f",
   "metadata": {},
   "source": [
    "### Parameter Summary:   \n",
    "Please run the below code for a summary of you parameter values."
   ]
  },
  {
   "cell_type": "code",
   "execution_count": 34,
   "id": "5f2b3a64",
   "metadata": {},
   "outputs": [
    {
     "name": "stdout",
     "output_type": "stream",
     "text": [
      "Population Size: 56\n",
      "Number of Interactions:  4\n",
      "Number of days of infection:  158\n",
      "Days:  120\n"
     ]
    }
   ],
   "source": [
    "pop=pop_slider.value\n",
    "print(\"Population Size:\", pop)\n",
    "edge_per_node = node_slider.value\n",
    "print(\"Number of Interactions: \", edge_per_node)\n",
    "infect_len = infect_len_slider.value\n",
    "print(\"Number of days of infection: \", infect_len)\n",
    "days = days_slider.value\n",
    "print(\"Days: \", days)"
   ]
  },
  {
   "cell_type": "markdown",
   "id": "6fc69ec7",
   "metadata": {},
   "source": [
    "### The Model    \n",
    "The Barabasi-Albert Alogrithm is used to generate a scale-free network. The process begins with two arbitary nodes with 1 edge ($m_{0}$) as your starting point. This represents two people interacting with each other. From that point on, the algorithm adds one new node to the pre-existing nodes at random (m($\\ge$$m_{0}$) until the model is created. Each node is able to attach to any node in the system. However, the number of edges a node has is set by the parameter; number of interactions (Bertotti and Modanese et al., 2019).    \n",
    "The cluster coefficient is then calculated, measuring the degree of nodes likely to cluster together within the model (Masuda et al., 2018).  "
   ]
  },
  {
   "cell_type": "code",
   "execution_count": 7,
   "id": "516407be",
   "metadata": {},
   "outputs": [
    {
     "name": "stdout",
     "output_type": "stream",
     "text": [
      "Total number of interactions within the model: 945\n",
      "Cluster coefficient: 0.2928311057108141\n"
     ]
    }
   ],
   "source": [
    "font = {'family': 'serif',\n",
    "        'color':  'black',\n",
    "        'weight': 'normal',\n",
    "        'size': 18,\n",
    "        }\n",
    "params = {'legend.fontsize': 16,\n",
    "          'legend.handlelength': 2.}\n",
    "plt.rcParams.update(params)\n",
    "color_dict = {\"S\": \"blue\", \"I\": \"red\", \"R\": \"green\"} #S=Suseptible, I=Infected and R=Recovered\n",
    "\n",
    "g = ig.Graph.Barabasi(pop, edge_per_node,power=1)\n",
    "print(\"Total number of interactions within the model:\", len(g.es))\n",
    "g.vs[\"state\"] = \"S\"\n",
    "g.vs[\"duration\"] = 0\n",
    "\n",
    "cl_coeff = g.transitivity_undirected()\n",
    "print(\"Cluster coefficient:\", cl_coeff)"
   ]
  },
  {
   "cell_type": "markdown",
   "id": "188d80c3",
   "metadata": {},
   "source": [
    "One node in the model is randomly chosen to go from the susceptible state (S) to infected state (I).   \n",
    "Since each infected node can contaminate neighbouring nodes, the duration of infection is increased with each node changing to the infected state (probs_inf). When the duration of infection is equal to the number of days of infection, the node can change from the infected state to the recovered state. The maximum degree of each infected node, representing the maximum number of interactions between each node is recorded in max_deg.    \n",
    "This simulates the infectivity rates as people go from asymptomatic to symptomatic states, according to the findings by He et al., in Wuhan, China. They suggested that infectiousness for COVID-19 started at day 2-3 days before showing intial symptoms, peaking at 15 hours before symptoms were shown. Once symptoms were shown the decline infectivity began steadily due to the immune response. They found that infectivity lasted between 2-14 days (He et al., 2020). "
   ]
  },
  {
   "cell_type": "code",
   "execution_count": 21,
   "id": "2f9080e8",
   "metadata": {},
   "outputs": [
    {
     "name": "stdout",
     "output_type": "stream",
     "text": [
      "Max degree of eac infected node:  [51]\n",
      "Probability of Infection:  14\n"
     ]
    }
   ],
   "source": [
    "#Infecting a random node\n",
    "i = rd.randint(0, pop-1)\n",
    "g.vs[i][\"state\"] = \"I\"\n",
    "nb_S = [pop]\n",
    "nb_I = [1]\n",
    "nb_R = [0]\n",
    "max_deg_I = [g.vs[i].degree()]\n",
    "print(\"Max degree of eac infected node: \", max_deg_I)\n",
    "tot_deg_I = [g.vs[i].degree()]\n",
    "\n",
    "probs_inf = [0.01,0.01,0.1,0.2,0.3,0.3,0.3,0.25,0.2,0.15,0.1,0.05,0.01,0.01]\n",
    "print(\"Probability of Infection: \", len(probs_inf))"
   ]
  },
  {
   "cell_type": "code",
   "execution_count": 22,
   "id": "84d0c127",
   "metadata": {},
   "outputs": [
    {
     "name": "stdout",
     "output_type": "stream",
     "text": [
      "[0]\n",
      "[]\n"
     ]
    }
   ],
   "source": [
    "time_1perc = [] #time when 1% of the population is infected\n",
    "time_1hub = [] #time when the first hub is infected\n",
    "deg_cutoff = 8\n",
    "for time in range(120): #no. of days\n",
    "    if len(g.vs.select(state_eq = \"I\"))> pop*0.01  and len(time_1perc) is 0:\n",
    "        time_1perc.append(time)\n",
    "    for n in g.vs.select(state_eq = \"I\"): #iterates through each node in the network\n",
    "        if g.vs[n.index][\"duration\"] is 0 and len(g.neighbors(n)) > deg_cutoff and len(time_1hub) is 0:\n",
    "            time_1hub.append(time)\n",
    "        g.vs[n.index][\"duration\"] += 1 #from day 0 to infect_len this node continues to infect\n",
    "        day_inf = g.vs[n.index][\"duration\"]\n",
    "        for nb in g.neighbors(n): #iterates through neighbours of that node\n",
    "            if g.vs[nb][\"state\"] == \"S\": #if node is infected...\n",
    "                r = rd.random() #random state\n",
    "                #if r < p_infect: #random state says to infect according to p_infect\n",
    "                if r < probs_inf[day_inf]:\n",
    "                    g.vs[nb][\"state\"] = \"I\" #change state to infected\n",
    "        #if g.vs[n.index][\"duration\"] >= infect_len: #after infect_len that node changes to recovered\n",
    "        if g.vs[n.index][\"duration\"] >= rd.randrange(1,14):\n",
    "            g.vs[n.index][\"state\"] = \"R\"\n",
    "    nb_S.append(len(g.vs.select(state_eq = \"S\"))) #no. of susceptibles in population\n",
    "    nb_I.append(len(g.vs.select(state_eq = \"I\"))) #no. of infecteds in population\n",
    "    nb_R.append(len(g.vs.select(state_eq = \"R\"))) #no. of recovereds in population\n",
    "    if len(g.vs.select(state_eq = \"I\")) > 0: #if there are infecteds\n",
    "        max_deg_I.append(max(g.vs.select(state_eq = \"I\").degree())) #records max no. of neighbours within infecteds\n",
    "        tot_deg_I.append(sum(g.vs.select(state_eq = \"I\").degree())) #records total no. of neighbours within infecteds\n",
    "    else:\n",
    "        max_deg_I.append(0)\n",
    "print(time_1perc)\n",
    "print(time_1hub)"
   ]
  },
  {
   "cell_type": "code",
   "execution_count": 23,
   "id": "5b7beac9",
   "metadata": {},
   "outputs": [
    {
     "data": {
      "text/plain": [
       "<matplotlib.legend.Legend at 0x27d62bdaca0>"
      ]
     },
     "execution_count": 23,
     "metadata": {},
     "output_type": "execute_result"
    },
    {
     "data": {
      "image/png": "[encoded data removed]",
      "text/plain": [
       "<Figure size 432x288 with 1 Axes>"
      ]
     },
     "metadata": {
      "needs_background": "light"
     },
     "output_type": "display_data"
    }
   ],
   "source": [
    "plt.subplot(1, 2, 1)\n",
    "plt.plot(nb_S, label='S')\n",
    "plt.plot(nb_I, label='I')\n",
    "plt.plot(nb_R, label='R')\n",
    "plt.legend()\n",
    "#plt.subplot(1, 2, 2)\n",
    "#plt.plot(max_deg_I, 'r-', label='max_deg_I')\n",
    "#plt.plot(tot_deg_I, 'm-', label='tot_deg_I')\n",
    "#plt.legend()"
   ]
  },
  {
   "cell_type": "markdown",
   "id": "b1d429bf",
   "metadata": {},
   "source": [
    "### References   \n",
    "Bertotti M.L and Modanese G (2019) The Configuration Model for Barabasi-Albert Network. *Applied Network Science*, **4**, Page 32   \n",
    "He X, Lau EH, Wu P, Deng W et al., (2020) Temporal Dynamics in Viral Shedding and Transmissibility in COVID-19. *Nature Medicine*, **26**, Pages 672-675   \n",
    "Masuda N, Sakaki M, Ezaki T and Watanabe T (2018) Clustering Coefficients for Correlation Networks. *Frontiers in Neuroinformatics*, **12**, Page 7"
   ]
  }
 ],
 "metadata": {
  "kernelspec": {
   "display_name": "Python 3 (ipykernel)",
   "language": "python",
   "name": "python3"
  },
  "language_info": {
   "codemirror_mode": {
    "name": "ipython",
    "version": 3
   },
   "file_extension": ".py",
   "mimetype": "text/x-python",
   "name": "python",
   "nbconvert_exporter": "python",
   "pygments_lexer": "ipython3",
   "version": "3.9.7"
  }
 },
 "nbformat": 4,
 "nbformat_minor": 5
}
