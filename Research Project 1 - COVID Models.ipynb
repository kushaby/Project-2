{
 "cells": [
  {
   "cell_type": "code",
   "execution_count": 159,
   "id": "1f344c02-4324-43d9-9330-c111cfbade98",
   "metadata": {
    "scrolled": true
   },
   "outputs": [],
   "source": [
    "#!pip install igraph\n",
    "#!pip install numpy\n",
    "#!pip install matplotlib\n",
    "\n",
    "import igraph as ig\n",
    "import random as rd\n",
    "import numpy as np\n",
    "import matplotlib.pyplot as plt\n",
    "\n",
    "import ipywidgets as widgets\n",
    "from IPython.display import display\n",
    "from ipywidgets.embed import embed_minimal_html, dependency_state\n",
    "\n",
    "from IPython.display import Markdown, display\n",
    "\n",
    "def printmd(string):\n",
    "    display(Markdown(string))\n",
    "\n",
    "import warnings\n",
    "warnings.filterwarnings('ignore')"
   ]
  },
  {
   "cell_type": "markdown",
   "id": "4864b0dc",
   "metadata": {},
   "source": [
    "### Parameter Input: - FIX  \n",
    "Please input the following parameters for your model:   \n",
    "   \n",
    "   \n",
    "**1. Population size**   \n",
    "This is the number of nodes within the model in which one node represents one person that is suseptable to infection.   \n",
    "**2. Number of Interactions**   \n",
    "The number of edges for each node, representing the number of interactions between people within the population. For example, 1 person will interact with 10 people a day.      \n",
    "**3. Number of Days Infected**     \n",
    "The number of days a node is in the infected state before going to the recovered state. This simulates the number of days the infected person is able to transmit the virus to other people   \n",
    "**4. Days**   \n",
    "The number of days the model runs for.   \n",
    "   \n",
    "The below code creates the sliders, enabling the user to input the desired values for the model."
   ]
  },
  {
   "cell_type": "code",
   "execution_count": 160,
   "id": "b58b72da",
   "metadata": {},
   "outputs": [],
   "source": [
    "layout = widgets.Layout(width = \"auto\", height = \"40px\")"
   ]
  },
  {
   "cell_type": "code",
   "execution_count": 161,
   "id": "84e4fb58",
   "metadata": {
    "scrolled": true,
    "tags": []
   },
   "outputs": [
    {
     "data": {
      "application/vnd.jupyter.widget-view+json": {
       "model_id": "1cbfaf5060944eed8a35eb94f2d3230e",
       "version_major": 2,
       "version_minor": 0
      },
      "text/plain": [
       "IntSlider(value=100, continuous_update=False, description='Population Size: ', max=1000, style=SliderStyle(des…"
      ]
     },
     "metadata": {},
     "output_type": "display_data"
    },
    {
     "data": {
      "application/vnd.jupyter.widget-view+json": {
       "model_id": "a5d075fdb425410cb54b82725d88c561",
       "version_major": 2,
       "version_minor": 0
      },
      "text/plain": [
       "IntSlider(value=10, continuous_update=False, description='Number of Interactions: ', max=10, style=SliderStyle…"
      ]
     },
     "metadata": {},
     "output_type": "display_data"
    },
    {
     "data": {
      "application/vnd.jupyter.widget-view+json": {
       "model_id": "11850317c1134aca8201bcacedef284c",
       "version_major": 2,
       "version_minor": 0
      },
      "text/plain": [
       "IntSlider(value=30, continuous_update=False, description='Number of Days Infected: ', max=360, min=30, style=S…"
      ]
     },
     "metadata": {},
     "output_type": "display_data"
    },
    {
     "data": {
      "application/vnd.jupyter.widget-view+json": {
       "model_id": "17c2035e68814450abed05f23ce51b89",
       "version_major": 2,
       "version_minor": 0
      },
      "text/plain": [
       "IntSlider(value=120, continuous_update=False, description='Days: ', max=200, min=10, style=SliderStyle(descrip…"
      ]
     },
     "metadata": {},
     "output_type": "display_data"
    }
   ],
   "source": [
    "pop_slider = widgets.IntSlider(value = 100, min=0, max=1000, step=1, description=\"Population Size: \", \n",
    "                               style={'description_width': 'initial', 'width': '800px'},\n",
    "                               disabled=False, continuous_update=False, orientation=\"horizontal\", readout=True, \n",
    "                               readout_format=\"d\") #creating the slider\n",
    "embed_minimal_html(\"population_size.html\", views=pop_slider, title = \"population size widget export\")\n",
    "display(pop_slider)\n",
    "\n",
    "node_slider = widgets.IntSlider(value = 10, min=0, max=10, step=1, description=\"Number of Interactions: \",\n",
    "                                style={'description_width': 'initial', 'width': '800px'},\n",
    "                                disabled=False, continuous_update=False, orientation=\"horizontal\", readout=True, \n",
    "                                readout_format=\"d\") #creating the slider\n",
    "embed_minimal_html(\"node.html\", views=node_slider, title = \"node widget export\")\n",
    "display(node_slider)\n",
    "\n",
    "infect_len_slider = widgets.IntSlider(value = 5, min=30, max=360, step=1, description=\"Number of Days Infected: \", \n",
    "                                      style={'description_width': 'initial', 'width': '800px'}, \n",
    "                                      disabled=False, continuous_update=False, orientation=\"horizontal\", readout=True, \n",
    "                                      readout_format=\"d\") #creating the slider\n",
    "embed_minimal_html(\"infection_len.html\", views=infect_len_slider, title = \"infection length size widget export\")\n",
    "display(infect_len_slider)\n",
    "\n",
    "\n",
    "days_slider = widgets.IntSlider(value = 120, min=10, max=200, step=1, description=\"Days: \", \n",
    "                                      style={'description_width': 'initial', 'width': '800px'}, \n",
    "                                      disabled=False, continuous_update=False, orientation=\"horizontal\", readout=True, \n",
    "                                      readout_format=\"d\") #creating the slider\n",
    "embed_minimal_html(\"days.html\", views=infect_len_slider, title = \"days widget export\")\n",
    "display(days_slider)"
   ]
  },
  {
   "cell_type": "markdown",
   "id": "6fc69ec7",
   "metadata": {},
   "source": [
    "### The Barabasi-Albert Model - FIX    \n",
    "The Barabasi-Albert Alogrithm is used to generate a scale-free network. The process begins with two arbitary nodes with 1 edge ($m_{0}$) as your starting point. This represents two people interacting with each other. From that point on, the algorithm adds one new node to the pre-existing nodes at random (m($\\ge$$m_{0}$) until the model is created. Each node is able to attach to any node in the system. However, the number of edges a node has is set by the parameter; number of interactions (Bertotti and Modanese et al., 2019).  \n",
    "One node in the model is randomly chosen to go from the susceptible state (S) to infected state (I).   \n",
    "Since each infected node can contaminate neighbouring nodes, the duration of infection is increased with each node changing to the infected state (probs_inf). When the duration of infection is equal to the number of days of infection, the node can change from the infected state to the recovered state. The maximum degree of each infected node, representing the maximum number of interactions between each node is recorded in max_deg.    \n",
    "This simulates the infectivity rates as people go from asymptomatic to symptomatic states, according to the findings by He et al., in Wuhan, China. They suggested that infectiousness for COVID-19 started at day 2-3 days before showing intial symptoms, peaking at 15 hours before symptoms were shown. Once symptoms were shown the decline infectivity began steadily due to the immune response. They found that infectivity lasted between 2-14 days (He et al., 2020). \n",
    "The cluster coefficient is then calculated, measuring the degree of nodes likely to cluster together within the model (Masuda et al., 2018).    \n",
    "\n",
    "Notes:\n",
    "- The of each node degree = the number of interactions each person has. \n",
    "- The number of edges = enable transmission\n",
    "- The node = 1 person\n"
   ]
  },
  {
   "cell_type": "code",
   "execution_count": 177,
   "id": "9acd1c7f",
   "metadata": {},
   "outputs": [
    {
     "data": {
      "application/vnd.jupyter.widget-view+json": {
       "model_id": "cc6d95fa5fb8431d8b7aaeafb02ea93c",
       "version_major": 2,
       "version_minor": 0
      },
      "text/plain": [
       "VBox(children=(VBox(children=(Button(description='Run Model', style=ButtonStyle()), Button(description='Save R…"
      ]
     },
     "metadata": {},
     "output_type": "display_data"
    }
   ],
   "source": [
    "button = widgets.Button(description='Run Model')\n",
    "sub_button = widgets.Button(description='Save Results')\n",
    "out = widgets.Output()\n",
    "fig_size = (20, 10)\n",
    "\n",
    "def on_button_clicked(_):\n",
    "      with out:\n",
    "        #clearing previous outputs\n",
    "        out.clear_output()\n",
    "        plt.close()\n",
    "        #widgets values\n",
    "        pop=pop_slider.value\n",
    "        print(\"Population Size:\", pop)\n",
    "        edge_per_node = node_slider.value\n",
    "        print(\"Number of Interactions: \", edge_per_node)\n",
    "        infect_len = infect_len_slider.value\n",
    "        print(\"Number of days of infection: \", infect_len)\n",
    "        days = days_slider.value\n",
    "        print(\"Days: \", days)\n",
    "        #Model\n",
    "        font = {'family': 'serif',\n",
    "        'color':  'black',\n",
    "        'weight': 'normal',\n",
    "        'size': 18,\n",
    "        }\n",
    "        params = {'legend.fontsize': 16,'legend.handlelength': 2.}\n",
    "        plt.rcParams.update(params)\n",
    "        color_dict = {\"S\": \"blue\", \"I\": \"red\", \"R\": \"green\"}\n",
    "        g = ig.Graph.Barabasi(pop, edge_per_node,power=1)\n",
    "        print(\"Total number of interactions within the model:\", len(g.es))\n",
    "        g.vs[\"state\"] = \"S\"\n",
    "        g.vs[\"duration\"] = 0\n",
    "        i = rd.randint(0, pop-1)\n",
    "        g.vs[i][\"state\"] = \"I\"\n",
    "        nb_S = [pop]\n",
    "        nb_I = [1]\n",
    "        nb_R = [0]\n",
    "        max_deg_I = [g.vs[i].degree()]\n",
    "        print(\"Max degree of each infected node: \", max_deg_I)\n",
    "        tot_deg_I = [g.vs[i].degree()]\n",
    "        probs_inf = [0.01,0.01,0.1,0.2,0.3,0.3,0.3,0.25,0.2,0.15,0.1,0.05,0.01,0.01]\n",
    "        print(\"Probability of Infection: \", len(probs_inf))\n",
    "        time_1perc = [] #time when the first 1% is infected\n",
    "        time_1hub = [] #time when the first hub is infected\n",
    "        deg_cutoff = 8\n",
    "        for time in range(120): #no. of days\n",
    "            if len(g.vs.select(state_eq = \"I\"))> pop*0.01  and len(time_1perc) is 0:\n",
    "                time_1perc.append(time)\n",
    "            for n in g.vs.select(state_eq = \"I\"): #iterates through each node in the network\n",
    "                if g.vs[n.index][\"duration\"] is 0 and len(g.neighbors(n)) > deg_cutoff and len(time_1hub) is 0:\n",
    "                    time_1hub.append(time)\n",
    "                g.vs[n.index][\"duration\"] += 1 #from day 0 to infect_len this node continues to infect\n",
    "                day_inf = g.vs[n.index][\"duration\"]\n",
    "                for nb in g.neighbors(n): #iterates through neighbours of that node\n",
    "                    if g.vs[nb][\"state\"] == \"S\": #if node is infected...\n",
    "                        r = rd.random() #random state\n",
    "                        #if r < p_infect: #random state says to infect according to p_infect\n",
    "                        if r < probs_inf[day_inf]:\n",
    "                            g.vs[nb][\"state\"] = \"I\" #change state to infected\n",
    "                #if g.vs[n.index][\"duration\"] >= infect_len: #after infect_len that node changes to recovered\n",
    "                if g.vs[n.index][\"duration\"] >= rd.randrange(1,14):\n",
    "                    g.vs[n.index][\"state\"] = \"R\"\n",
    "            nb_S.append(len(g.vs.select(state_eq = \"S\"))) #no. of susceptibles in population\n",
    "            nb_I.append(len(g.vs.select(state_eq = \"I\"))) #no. of infecteds in population\n",
    "            nb_R.append(len(g.vs.select(state_eq = \"R\"))) #no. of recovereds in population\n",
    "            if len(g.vs.select(state_eq = \"I\")) > 0: #if there are infecteds\n",
    "                max_deg_I.append(max(g.vs.select(state_eq = \"I\").degree())) #records max no. of neighbours within infecteds\n",
    "                tot_deg_I.append(sum(g.vs.select(state_eq = \"I\").degree())) #records total no. of neighbours within infecteds\n",
    "            else:\n",
    "                max_deg_I.append(0)  \n",
    "        #Results\n",
    "        cl_coeff = g.transitivity_undirected()\n",
    "        print(\"Cluster coefficient:\", cl_coeff)\n",
    "        ##Add title of the graph##\n",
    "        f = plt.figure(figsize=fig_size)\n",
    "        f.add_subplot(1, 2, 1)\n",
    "        plt.plot(nb_S, label='S')\n",
    "        plt.plot(nb_I, label='I')\n",
    "        plt.plot(nb_R, label='R')\n",
    "        plt.title(\"\")\n",
    "        plt.legend()\n",
    "        #sub_button = widgets.Button(description='Save Results')    \n",
    "        def save_button(_):\n",
    "            #return on_button_clicked(_)\n",
    "            plt.savefig(\"graph6\") #WHY IT NO SAVE THE FUCKING DATA??????!!!!!!!!!!\n",
    "        #sub_button.on_click(save_button)\n",
    "        plt.show()\n",
    "        \n",
    "button.on_click(on_button_clicked)\n",
    "sub_button.on_click(save_button)\n",
    "\n",
    "#def save_button(_): \n",
    "    #out.clear_output()\n",
    "    #return on_button_clicked(_)\n",
    "    #f.savefig(\"graph\")\n",
    "#sub_button.on_click(save_button)\n",
    "\n",
    "buttons = widgets.VBox([button, sub_button])\n",
    "widgets.VBox([buttons, out])"
   ]
  },
  {
   "cell_type": "markdown",
   "id": "b1d429bf",
   "metadata": {},
   "source": [
    "### References   \n",
    "Bertotti M.L and Modanese G (2019) The Configuration Model for Barabasi-Albert Network. *Applied Network Science*, **4**, Page 32   \n",
    "He X, Lau EH, Wu P, Deng W et al., (2020) Temporal Dynamics in Viral Shedding and Transmissibility in COVID-19. *Nature Medicine*, **26**, Pages 672-675   \n",
    "Masuda N, Sakaki M, Ezaki T and Watanabe T (2018) Clustering Coefficients for Correlation Networks. *Frontiers in Neuroinformatics*, **12**, Page 7"
   ]
  }
 ],
 "metadata": {
  "kernelspec": {
   "display_name": "Python 3 (ipykernel)",
   "language": "python",
   "name": "python3"
  },
  "language_info": {
   "codemirror_mode": {
    "name": "ipython",
    "version": 3
   },
   "file_extension": ".py",
   "mimetype": "text/x-python",
   "name": "python",
   "nbconvert_exporter": "python",
   "pygments_lexer": "ipython3",
   "version": "3.9.7"
  }
 },
 "nbformat": 4,
 "nbformat_minor": 5
}
